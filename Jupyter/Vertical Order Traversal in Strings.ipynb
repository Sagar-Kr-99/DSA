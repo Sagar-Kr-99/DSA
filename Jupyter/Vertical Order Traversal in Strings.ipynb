{
 "cells": [
  {
   "cell_type": "code",
   "execution_count": 12,
   "metadata": {},
   "outputs": [],
   "source": [
    "str=\"sagar sourav shivranjan analogelectroics\""
   ]
  },
  {
   "cell_type": "code",
   "execution_count": 13,
   "metadata": {},
   "outputs": [
    {
     "data": {
      "text/plain": [
       "['sagar', 'sourav', 'shivranjan', 'analogelectroics']"
      ]
     },
     "execution_count": 13,
     "metadata": {},
     "output_type": "execute_result"
    }
   ],
   "source": [
    "str=str.split(\" \")\n",
    "str"
   ]
  },
  {
   "cell_type": "code",
   "execution_count": 14,
   "metadata": {},
   "outputs": [
    {
     "data": {
      "text/plain": [
       "list"
      ]
     },
     "execution_count": 14,
     "metadata": {},
     "output_type": "execute_result"
    }
   ],
   "source": [
    "type(str)"
   ]
  },
  {
   "cell_type": "code",
   "execution_count": 15,
   "metadata": {},
   "outputs": [
    {
     "data": {
      "text/plain": [
       "16"
      ]
     },
     "execution_count": 15,
     "metadata": {},
     "output_type": "execute_result"
    }
   ],
   "source": [
    "#finding length of  the string in list whose length is maximum\n",
    "mx=0\n",
    "for i in str:\n",
    "    mx=max(len(i),mx)\n",
    "mx"
   ]
  },
  {
   "cell_type": "code",
   "execution_count": 16,
   "metadata": {},
   "outputs": [
    {
     "data": {
      "text/plain": [
       "{}"
      ]
     },
     "execution_count": 16,
     "metadata": {},
     "output_type": "execute_result"
    }
   ],
   "source": [
    "#empty dictionary Using hash map\n",
    "map=dict()\n",
    "map"
   ]
  },
  {
   "cell_type": "code",
   "execution_count": 17,
   "metadata": {},
   "outputs": [],
   "source": [
    "i=0\n",
    "while i<mx:\n",
    "    \n",
    "    for j in str: # traverse through str list \n",
    "        if i>=len(j):\n",
    "            map[i]=map.get(i,\"\")+\"$\"\n",
    "        else:\n",
    "            map[i]=map.get(i,\"\")+j[i] \n",
    "    i=i+1\n",
    "            "
   ]
  },
  {
   "cell_type": "code",
   "execution_count": 18,
   "metadata": {},
   "outputs": [
    {
     "data": {
      "text/plain": [
       "{0: 'sssa',\n",
       " 1: 'aohn',\n",
       " 2: 'guia',\n",
       " 3: 'arvl',\n",
       " 4: 'raro',\n",
       " 5: '$vag',\n",
       " 6: '$$ne',\n",
       " 7: '$$jl',\n",
       " 8: '$$ae',\n",
       " 9: '$$nc',\n",
       " 10: '$$$t',\n",
       " 11: '$$$r',\n",
       " 12: '$$$o',\n",
       " 13: '$$$i',\n",
       " 14: '$$$c',\n",
       " 15: '$$$s'}"
      ]
     },
     "execution_count": 18,
     "metadata": {},
     "output_type": "execute_result"
    }
   ],
   "source": [
    "map"
   ]
  },
  {
   "cell_type": "markdown",
   "metadata": {},
   "source": [
    "\n",
    "\n"
   ]
  },
  {
   "cell_type": "code",
   "execution_count": 21,
   "metadata": {},
   "outputs": [],
   "source": [
    "res=\"\"\n",
    "for i in range(mx):\n",
    "    res=res+map[i]+\" \""
   ]
  },
  {
   "cell_type": "code",
   "execution_count": 22,
   "metadata": {},
   "outputs": [
    {
     "data": {
      "text/plain": [
       "'sssa aohn guia arvl raro $vag $$ne $$jl $$ae $$nc $$$t $$$r $$$o $$$i $$$c $$$s '"
      ]
     },
     "execution_count": 22,
     "metadata": {},
     "output_type": "execute_result"
    }
   ],
   "source": [
    "res"
   ]
  },
  {
   "cell_type": "code",
   "execution_count": null,
   "metadata": {},
   "outputs": [],
   "source": []
  }
 ],
 "metadata": {
  "kernelspec": {
   "display_name": "Python 3",
   "language": "python",
   "name": "python3"
  },
  "language_info": {
   "codemirror_mode": {
    "name": "ipython",
    "version": 3
   },
   "file_extension": ".py",
   "mimetype": "text/x-python",
   "name": "python",
   "nbconvert_exporter": "python",
   "pygments_lexer": "ipython3",
   "version": "3.8.3"
  }
 },
 "nbformat": 4,
 "nbformat_minor": 4
}
