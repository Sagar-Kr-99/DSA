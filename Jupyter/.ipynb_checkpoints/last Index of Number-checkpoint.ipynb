{
 "cells": [
  {
   "cell_type": "code",
   "execution_count": 7,
   "id": "906c2211",
   "metadata": {},
   "outputs": [],
   "source": [
    "count=0;"
   ]
  },
  {
   "cell_type": "code",
   "execution_count": 12,
   "id": "1519a8f3",
   "metadata": {},
   "outputs": [],
   "source": [
    "\n",
    "def firstIndex(arr, x):\n",
    "    \n",
    "    global count\n",
    "    if arr[0]==x:\n",
    "        return count\n",
    "    count=count+1\n",
    "    \n",
    "    if(len(arr)==1):\n",
    "        return -1\n",
    "\n",
    "    return firstIndex(arr[1:],x)\n"
   ]
  },
  {
   "cell_type": "code",
   "execution_count": null,
   "id": "799dfe00",
   "metadata": {},
   "outputs": [],
   "source": []
  },
  {
   "cell_type": "code",
   "execution_count": 13,
   "id": "21ab01d8",
   "metadata": {},
   "outputs": [
    {
     "name": "stdout",
     "output_type": "stream",
     "text": [
      "4\n"
     ]
    }
   ],
   "source": [
    "# Main\n",
    "from sys import setrecursionlimit\n",
    "setrecursionlimit(11000)\n",
    "n=5\n",
    "arr=[1,2,3,4,5]\n",
    "x=5\n",
    "print(firstIndex(arr, x))"
   ]
  },
  {
   "cell_type": "code",
   "execution_count": null,
   "id": "3cb4bd72",
   "metadata": {},
   "outputs": [],
   "source": []
  }
 ],
 "metadata": {
  "kernelspec": {
   "display_name": "Python 3",
   "language": "python",
   "name": "python3"
  },
  "language_info": {
   "codemirror_mode": {
    "name": "ipython",
    "version": 3
   },
   "file_extension": ".py",
   "mimetype": "text/x-python",
   "name": "python",
   "nbconvert_exporter": "python",
   "pygments_lexer": "ipython3",
   "version": "3.8.8"
  }
 },
 "nbformat": 4,
 "nbformat_minor": 5
}
