{
 "cells": [
  {
   "cell_type": "code",
   "execution_count": 7,
   "id": "906c2211",
   "metadata": {},
   "outputs": [],
   "source": []
  },
  {
   "cell_type": "code",
   "execution_count": 27,
   "id": "1519a8f3",
   "metadata": {},
   "outputs": [],
   "source": [
    "\n",
    "def lastIndex(arr,x):\n",
    "    \n",
    "    global count;\n",
    "    #Base case\n",
    "    if arr[len(arr)-1]==x:\n",
    "        return count\n",
    "    count=count-1\n",
    "    if(len(arr)==1):\n",
    "        return -1;\n",
    "    \n",
    "    arr.pop()\n",
    "    return lastIndex(arr,x)\n",
    "\n"
   ]
  },
  {
   "cell_type": "code",
   "execution_count": null,
   "id": "799dfe00",
   "metadata": {},
   "outputs": [],
   "source": []
  },
  {
   "cell_type": "code",
   "execution_count": 28,
   "id": "21ab01d8",
   "metadata": {},
   "outputs": [
    {
     "name": "stdout",
     "output_type": "stream",
     "text": [
      "5\n",
      "1 2 3 3 4\n",
      "3\n",
      "3\n"
     ]
    }
   ],
   "source": [
    "\n",
    "# Main\n",
    "from sys import setrecursionlimit\n",
    "setrecursionlimit(11000)\n",
    "n=int(input())\n",
    "arr=list(int(i) for i in input().strip().split(' '))\n",
    "x=int(input())\n",
    "count=n-1\n",
    "print(lastIndex(arr,x))"
   ]
  },
  {
   "cell_type": "code",
   "execution_count": null,
   "id": "4df57fa2",
   "metadata": {},
   "outputs": [],
   "source": []
  }
 ],
 "metadata": {
  "kernelspec": {
   "display_name": "Python 3",
   "language": "python",
   "name": "python3"
  },
  "language_info": {
   "codemirror_mode": {
    "name": "ipython",
    "version": 3
   },
   "file_extension": ".py",
   "mimetype": "text/x-python",
   "name": "python",
   "nbconvert_exporter": "python",
   "pygments_lexer": "ipython3",
   "version": "3.8.8"
  }
 },
 "nbformat": 4,
 "nbformat_minor": 5
}
